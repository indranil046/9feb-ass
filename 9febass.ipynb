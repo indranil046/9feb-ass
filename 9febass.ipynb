{
 "cells": [
  {
   "cell_type": "code",
   "execution_count": 2,
   "id": "3c53bc11-825d-4ac9-adc6-463c601b9e40",
   "metadata": {},
   "outputs": [],
   "source": [
    "###Q1)\n",
    "class Vehicle:\n",
    "    def __init__(self, name_of_vehicle, max_speed, average_of_vehicle):\n",
    "        self.name_of_vehicle = name_of_vehicle\n",
    "        self.max_speed = max_speed\n",
    "        self.average_of_vehicle = average_of_vehicle\n",
    "   "
   ]
  },
  {
   "cell_type": "code",
   "execution_count": 5,
   "id": "945c0fe5-0f67-4edb-a443-94d174b004cc",
   "metadata": {},
   "outputs": [
    {
     "data": {
      "text/plain": [
       "40"
      ]
     },
     "execution_count": 5,
     "metadata": {},
     "output_type": "execute_result"
    }
   ],
   "source": [
    " car = Vehicle(\"Car\", 200, 40)           \n",
    "(car.average_of_vehicle)    \n"
   ]
  },
  {
   "cell_type": "code",
   "execution_count": 8,
   "id": "8d67332f-c9a5-4d2a-8bb0-9b20cc280f70",
   "metadata": {},
   "outputs": [
    {
     "data": {
      "text/plain": [
       "200"
      ]
     },
     "execution_count": 8,
     "metadata": {},
     "output_type": "execute_result"
    }
   ],
   "source": [
    "car.max_speed"
   ]
  },
  {
   "cell_type": "code",
   "execution_count": 10,
   "id": "47c93683-5c62-4691-89f7-f17f9493dc9d",
   "metadata": {},
   "outputs": [],
   "source": [
    "###Q2)\n",
    "class Car(Vehicle):\n",
    "    def __init__(self, name_of_vehicle, max_speed, average_of_vehicle):\n",
    "        super().__init__(name_of_vehicle, max_speed, average_of_vehicle)\n",
    "\n",
    "    def seating_capacity(self, capacity):\n",
    "        return f\"The {self.name_of_vehicle} has a seating capacity of {capacity} people.\"\n"
   ]
  },
  {
   "cell_type": "code",
   "execution_count": 11,
   "id": "799c2448-9b55-4149-8d0e-bdcf1f1729bd",
   "metadata": {},
   "outputs": [
    {
     "name": "stdout",
     "output_type": "stream",
     "text": [
      "The Sedan has a seating capacity of 5 people.\n"
     ]
    }
   ],
   "source": [
    "car = Car(\"Sedan\", 180, 4)\n",
    "print(car.seating_capacity(5))\n",
    "\n"
   ]
  },
  {
   "cell_type": "code",
   "execution_count": 12,
   "id": "5bf9bbd7-f3cd-4524-96be-4afdd2d0d1d1",
   "metadata": {},
   "outputs": [
    {
     "name": "stdout",
     "output_type": "stream",
     "text": [
      "Ferrari is being driven.\n"
     ]
    }
   ],
   "source": [
    "###Q3)\n",
    "class Vehicle:\n",
    "    def __init__(self, name):\n",
    "        self.name = name\n",
    "\n",
    "    def drive(self):\n",
    "        print(f\"{self.name} is being driven.\")\n",
    "\n",
    "\n",
    "class Convertible:\n",
    "    def open_roof(self):\n",
    "        print(\"Roof is opened.\")\n",
    "\n",
    "\n",
    "class SportsCar(Vehicle, Convertible):\n",
    "    def __init__(self, name, top_speed):\n",
    "        super().__init__(name)\n",
    "        self.top_speed = top_speed\n",
    "\n",
    "    def drive_fast(self):\n",
    "        print(f\"{self.name} is driving at {self.top_speed} mph.\")\n",
    "\n",
    "    def open_roof(self):\n",
    "        super().open_roof()\n",
    "        print(\"Feel the wind in your hair!\")\n",
    "\n",
    "\n",
    "car = SportsCar(\"Ferrari\", 200)\n",
    "car.drive()       \n"
   ]
  },
  {
   "cell_type": "code",
   "execution_count": 13,
   "id": "3c5fb88f-5a60-47f8-9ab1-d770ef423409",
   "metadata": {},
   "outputs": [
    {
     "name": "stdout",
     "output_type": "stream",
     "text": [
      "Ferrari is driving at 200 mph.\n"
     ]
    }
   ],
   "source": [
    "car.drive_fast() \n",
    "\n"
   ]
  },
  {
   "cell_type": "code",
   "execution_count": 14,
   "id": "d008cc3b-875a-46e3-a3ae-3d4f162cc5ee",
   "metadata": {},
   "outputs": [
    {
     "name": "stdout",
     "output_type": "stream",
     "text": [
      "Roof is opened.\n",
      "Feel the wind in your hair!\n"
     ]
    }
   ],
   "source": [
    "car.open_roof()"
   ]
  },
  {
   "cell_type": "code",
   "execution_count": 16,
   "id": "e7b228f2-4e13-447d-a95a-99ea2a23f8cf",
   "metadata": {},
   "outputs": [
    {
     "name": "stdout",
     "output_type": "stream",
     "text": [
      "indra\n",
      "25\n",
      "kumar\n",
      "30\n"
     ]
    }
   ],
   "source": [
    "###Q4)\n",
    "class Person:\n",
    "    def __init__(self, name, age):\n",
    "        self._name = name\n",
    "        self._age = age\n",
    "\n",
    "    def get_name(self):\n",
    "        return self._name\n",
    "\n",
    "    def set_name(self, name):\n",
    "        self._name = name\n",
    "\n",
    "    def get_age(self):\n",
    "        return self._age\n",
    "\n",
    "    def set_age(self, age):\n",
    "        if age >= 0:\n",
    "            self._age = age\n",
    "        else:\n",
    "            print(\"Invalid age value.\")\n",
    "\n",
    "person = Person(\"indra\", 25)\n",
    "print(person.get_name())\n",
    "print(person.get_age()) \n",
    "\n",
    "person.set_name(\"kumar\")\n",
    "person.set_age(30)\n",
    "\n",
    "print(person.get_name()) \n",
    "print(person.get_age()) \n"
   ]
  },
  {
   "cell_type": "code",
   "execution_count": 17,
   "id": "2622398b-c856-4080-9fc2-046811f8da91",
   "metadata": {},
   "outputs": [],
   "source": [
    "###Q5)\n",
    "class Animal:\n",
    "    def make_sound(self):\n",
    "        print(\"Generic animal sound.\")\n",
    "\n",
    "\n",
    "class Dog(Animal):\n",
    "    def make_sound(self):\n",
    "        print(\"Bark!\")\n",
    "\n",
    "\n",
    "class Cat(Animal):\n",
    "    def make_sound(self):\n",
    "        print(\"Meow!\")\n",
    "\n",
    "\n",
    "animal = Animal()\n",
    "dog = Dog()\n",
    "cat = Cat()\n",
    "\n",
    "animal.make_sound()  \n",
    "dog.make_sound()    \n",
    "cat.make_sound()  "
   ]
  },
  {
   "cell_type": "code",
   "execution_count": null,
   "id": "931256f2-3da5-4fdd-9d6e-90366e566a68",
   "metadata": {},
   "outputs": [],
   "source": []
  }
 ],
 "metadata": {
  "kernelspec": {
   "display_name": "Python 3 (ipykernel)",
   "language": "python",
   "name": "python3"
  },
  "language_info": {
   "codemirror_mode": {
    "name": "ipython",
    "version": 3
   },
   "file_extension": ".py",
   "mimetype": "text/x-python",
   "name": "python",
   "nbconvert_exporter": "python",
   "pygments_lexer": "ipython3",
   "version": "3.10.8"
  }
 },
 "nbformat": 4,
 "nbformat_minor": 5
}
